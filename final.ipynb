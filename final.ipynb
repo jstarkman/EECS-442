{
 "metadata": {
  "name": "",
  "signature": "sha256:89dba640d9a1cfb50e2739b49e64720d4e59f23ac334db29e14ea1098aecd176"
 },
 "nbformat": 3,
 "nbformat_minor": 0,
 "worksheets": [
  {
   "cells": [
    {
     "cell_type": "code",
     "collapsed": false,
     "input": [
      "import numpy as np\n",
      "import pandas as pd\n",
      "from causalinference import CausalModel"
     ],
     "language": "python",
     "metadata": {},
     "outputs": [],
     "prompt_number": 1
    },
    {
     "cell_type": "code",
     "collapsed": false,
     "input": [
      "filename = \"data.txt\"\n",
      "data = pd.read_table(filename)\n",
      "# filter out .ca, .de and sample\n",
      "data = data[data.site_name == \"EXPEDIA.COM\"].sample(10000, replace=True)\n",
      "data.srch_co = pd.to_datetime(data.srch_co)\n",
      "data.srch_ci = pd.to_datetime(data.srch_ci)"
     ],
     "language": "python",
     "metadata": {},
     "outputs": [],
     "prompt_number": 12
    },
    {
     "cell_type": "code",
     "collapsed": false,
     "input": [
      "l_country = data.user_location_country == data.hotel_country\n",
      "l_duration = data.srch_co - data.srch_ci\n",
      "l_other = [\"is_package\", \"srch_adults_cnt\", \"srch_children_cnt\", \"srch_rm_cnt\",\n",
      "           \"prop_is_branded\", \"prop_starrating\"]\n",
      "l_band = [\"distance_band\", \"hist_price_band\", \"popularity_band\"]\n",
      "l_bands = [[\"VC\", \"C\", \"M\", \"F\", \"VF\"],\n",
      "           [\"VL\", \"L\", \"M\", \"H\", \"VH\"],\n",
      "           [\"VL\", \"L\", \"M\", \"H\", \"VH\"]]\n",
      "\n",
      "l_dict = {\n",
      "\t\"country\" : l_country,\n",
      "\t\"duration\" : l_duration,\n",
      "}\n",
      "for col in l_other:\n",
      "\tl_dict[col] = data[col]\n",
      "# http://stackoverflow.com/a/32011969\n",
      "for col, order in zip(l_band, l_bands):\n",
      "\tl_dict[col] = data[col].astype(\"category\", categories=order, ordered=True)\n",
      "l_dict[\"A\"] = data.is_mobile\n",
      "l_dict[\"Y\"] = data.is_booking\n",
      "    \n",
      "L = pd.DataFrame(l_dict)\n",
      "cat_columns = L.select_dtypes(['category']).columns\n",
      "L[cat_columns] = L[cat_columns].apply(lambda x: x.cat.codes)\n",
      "L.dropna(inplace=True)\n",
      "A = L.A.copy()\n",
      "Y = L.Y.copy()\n",
      "L.drop([\"A\", \"Y\"], 1, inplace=True)\n",
      "L.prop_starrating = L.prop_starrating.astype(\"int64\")\n",
      "L.country = L.country.astype(\"int8\")\n",
      "L.duration = L.duration.dt.days"
     ],
     "language": "python",
     "metadata": {},
     "outputs": [],
     "prompt_number": 15
    },
    {
     "cell_type": "markdown",
     "metadata": {},
     "source": [
      "Now we have L, A, and Y, all integers"
     ]
    },
    {
     "cell_type": "code",
     "collapsed": false,
     "input": [
      "L[L.isnull().any(axis=1)] # should be empty"
     ],
     "language": "python",
     "metadata": {},
     "outputs": [
      {
       "html": [
        "<div style=\"max-width:1500px;overflow:auto;\">\n",
        "<style>\n",
        "    .dataframe thead tr:only-child th {\n",
        "        text-align: right;\n",
        "    }\n",
        "\n",
        "    .dataframe thead th {\n",
        "        text-align: left;\n",
        "    }\n",
        "\n",
        "    .dataframe tbody tr th {\n",
        "        vertical-align: top;\n",
        "    }\n",
        "</style>\n",
        "<table border=\"1\" class=\"dataframe\">\n",
        "  <thead>\n",
        "    <tr style=\"text-align: right;\">\n",
        "      <th></th>\n",
        "      <th>country</th>\n",
        "      <th>distance_band</th>\n",
        "      <th>duration</th>\n",
        "      <th>hist_price_band</th>\n",
        "      <th>is_package</th>\n",
        "      <th>popularity_band</th>\n",
        "      <th>prop_is_branded</th>\n",
        "      <th>prop_starrating</th>\n",
        "      <th>srch_adults_cnt</th>\n",
        "      <th>srch_children_cnt</th>\n",
        "      <th>srch_rm_cnt</th>\n",
        "    </tr>\n",
        "  </thead>\n",
        "  <tbody>\n",
        "  </tbody>\n",
        "</table>\n",
        "</div>"
       ],
       "metadata": {},
       "output_type": "pyout",
       "prompt_number": 16,
       "text": [
        "Empty DataFrame\n",
        "Columns: [country, distance_band, duration, hist_price_band, is_package, popularity_band, prop_is_branded, prop_starrating, srch_adults_cnt, srch_children_cnt, srch_rm_cnt]\n",
        "Index: []"
       ]
      }
     ],
     "prompt_number": 16
    },
    {
     "cell_type": "markdown",
     "metadata": {},
     "source": [
      "Causal inference time!  [Documentation](https://github.com/laurencium/CausalInference/blob/master/docs/tex/vignette.pdf)"
     ]
    },
    {
     "cell_type": "code",
     "collapsed": false,
     "input": [
      "causal = CausalModel(Y.values, A.values, L.values) # warning: stateful"
     ],
     "language": "python",
     "metadata": {},
     "outputs": [],
     "prompt_number": 17
    },
    {
     "cell_type": "code",
     "collapsed": false,
     "input": [
      "print(causal.summary_stats)"
     ],
     "language": "python",
     "metadata": {},
     "outputs": [
      {
       "output_type": "stream",
       "stream": "stdout",
       "text": [
        "\n",
        "Summary Statistics\n",
        "\n",
        "                      Controls (N_c=7742)        Treated (N_t=2256)             \n",
        "       Variable         Mean         S.d.         Mean         S.d.     Raw-diff\n",
        "--------------------------------------------------------------------------------\n",
        "              Y        0.089        0.284        0.076        0.265       -0.013\n",
        "\n",
        "                      Controls (N_c=7742)        Treated (N_t=2256)             \n",
        "       Variable         Mean         S.d.         Mean         S.d.     Nor-diff\n",
        "--------------------------------------------------------------------------------\n",
        "             X0        0.616        0.486        0.777        0.417        0.355\n",
        "             X1        1.728        1.094        1.697        1.069       -0.028\n",
        "             X2        3.173        2.608        2.696        2.181       -0.198\n",
        "             X3        2.060        1.089        1.934        1.083       -0.116\n",
        "             X4        0.208        0.406        0.137        0.344       -0.188\n",
        "             X5        3.049        0.925        3.017        0.922       -0.035\n",
        "             X6        0.617        0.486        0.635        0.482        0.036\n",
        "             X7        3.559        0.944        3.423        0.900       -0.147\n",
        "             X8        2.048        0.898        2.069        0.751        0.024\n",
        "             X9        0.309        0.763        0.324        0.804        0.020\n",
        "            X10        1.082        0.373        1.051        0.305       -0.091\n",
        "\n"
       ]
      }
     ],
     "prompt_number": 18
    },
    {
     "cell_type": "code",
     "collapsed": false,
     "input": [
      "causal.reset()\n",
      "causal.est_via_ols()\n",
      "print(causal.estimates)\n",
      "\n",
      "causal.est_propensity_s()\n",
      "causal.trim_s()\n",
      "print(causal.propensity)\n",
      "\n",
      "causal.stratify_s()\n",
      "print(causal.strata)\n",
      "\n",
      "causal.est_via_weighting()\n",
      "print(causal.estimates)\n",
      "\n",
      "causal.est_via_matching()\n",
      "print(causal.estimates)\n",
      "\n",
      "print(causal.summary_stats)"
     ],
     "language": "python",
     "metadata": {},
     "outputs": [
      {
       "output_type": "stream",
       "stream": "stdout",
       "text": [
        "\n",
        "Treatment Effect Estimates: OLS\n",
        "\n",
        "                     Est.       S.e.          z      P>|z|      [95% Conf. int.]\n",
        "--------------------------------------------------------------------------------\n",
        "           ATE     -0.023      0.006     -3.762      0.000     -0.035     -0.011\n",
        "           ATC     -0.024      0.006     -3.958      0.000     -0.036     -0.012\n",
        "           ATT     -0.020      0.007     -2.978      0.003     -0.032     -0.007\n",
        "\n",
        "\n",
        "Estimated Parameters of Propensity Score\n",
        "\n",
        "                    Coef.       S.e.          z      P>|z|      [95% Conf. int.]\n",
        "--------------------------------------------------------------------------------\n",
        "     Intercept     -1.814      0.314     -5.781      0.000     -2.430     -1.199\n",
        "            X0      1.559      0.206      7.575      0.000      1.155      1.962\n",
        "            X4     -0.125      0.156     -0.801      0.423     -0.431      0.181\n",
        "            X3     -0.097      0.023     -4.260      0.000     -0.141     -0.052\n",
        "           X10     -0.628      0.302     -2.075      0.038     -1.220     -0.035\n",
        "            X8      0.627      0.106      5.896      0.000      0.418      0.835\n",
        "            X2     -0.033      0.012     -2.791      0.005     -0.057     -0.010\n",
        "            X1     -0.054      0.025     -2.188      0.029     -0.102     -0.006\n",
        "         X8*X8     -0.136      0.023     -5.906      0.000     -0.182     -0.091\n",
        "         X0*X4     -0.597      0.142     -4.202      0.000     -0.876     -0.319\n",
        "        X0*X10     -0.718      0.182     -3.938      0.000     -1.075     -0.360\n",
        "        X10*X8      0.205      0.063      3.228      0.001      0.080      0.329\n",
        "         X4*X1      0.127      0.062      2.041      0.041      0.005      0.250\n"
       ]
      },
      {
       "output_type": "stream",
       "stream": "stdout",
       "text": [
        "\n",
        "\n",
        "Stratification Summary\n",
        "\n",
        "              Propensity Score         Sample Size     Ave. Propensity   Outcome\n",
        "   Stratum      Min.      Max.  Controls   Treated  Controls   Treated  Raw-diff\n",
        "--------------------------------------------------------------------------------\n",
        "         1     0.087     0.107       295        21     0.098     0.100    -0.037\n",
        "         2     0.107     0.119       270        43     0.113     0.113    -0.084\n",
        "         3     0.119     0.135       541        84     0.127     0.128    -0.060\n",
        "         4     0.135     0.156      1059       194     0.146     0.147    -0.031\n",
        "         5     0.156     0.225      2017       419     0.185     0.185    -0.012\n",
        "         6     0.225     0.276       936       302     0.253     0.254    -0.010\n",
        "         7     0.277     0.299       893       393     0.290     0.290    -0.052\n",
        "         8     0.300     0.318       834       351     0.310     0.310     0.004\n",
        "         9     0.318     0.904       791       440     0.337     0.339     0.011\n"
       ]
      },
      {
       "output_type": "stream",
       "stream": "stdout",
       "text": [
        "\n",
        "\n",
        "Treatment Effect Estimates: Weighting\n",
        "\n",
        "                     Est.       S.e.          z      P>|z|      [95% Conf. int.]\n",
        "--------------------------------------------------------------------------------\n",
        "           ATE     -0.021      0.006     -3.282      0.001     -0.034     -0.009\n",
        "\n",
        "\n",
        "Treatment Effect Estimates: Matching\n",
        "\n",
        "                     Est.       S.e.          z      P>|z|      [95% Conf. int.]\n",
        "--------------------------------------------------------------------------------\n",
        "           ATE     -0.017      0.010     -1.695      0.090     -0.037      0.003\n",
        "           ATC     -0.019      0.011     -1.711      0.087     -0.041      0.003\n",
        "           ATT     -0.012      0.011     -1.058      0.290     -0.034      0.010\n",
        "\n",
        "Treatment Effect Estimates: Weighting\n",
        "\n",
        "                     Est.       S.e.          z      P>|z|      [95% Conf. int.]\n",
        "--------------------------------------------------------------------------------\n",
        "           ATE     -0.021      0.006     -3.282      0.001     -0.034     -0.009\n"
       ]
      },
      {
       "output_type": "stream",
       "stream": "stdout",
       "text": [
        "\n",
        "\n",
        "Summary Statistics\n",
        "\n",
        "                      Controls (N_c=7636)        Treated (N_t=2247)             \n",
        "       Variable         Mean         S.d.         Mean         S.d.     Raw-diff\n",
        "--------------------------------------------------------------------------------\n",
        "              Y        0.089        0.285        0.076        0.265       -0.013\n",
        "\n",
        "                      Controls (N_c=7636)        Treated (N_t=2247)             \n",
        "       Variable         Mean         S.d.         Mean         S.d.     Nor-diff\n",
        "--------------------------------------------------------------------------------\n",
        "             X0        0.619        0.486        0.778        0.416        0.351\n",
        "             X1        1.728        1.096        1.695        1.069       -0.031\n",
        "             X2        3.112        2.446        2.682        2.155       -0.187\n",
        "             X3        2.051        1.084        1.934        1.084       -0.108\n",
        "             X4        0.207        0.405        0.137        0.344       -0.187\n",
        "             X5        3.047        0.926        3.017        0.922       -0.032\n",
        "             X6        0.616        0.487        0.636        0.481        0.041\n",
        "             X7        3.552        0.944        3.422        0.899       -0.141\n",
        "             X8        2.038        0.837        2.065        0.720        0.034\n",
        "             X9        0.308        0.756        0.316        0.771        0.011\n",
        "            X10        1.069        0.299        1.045        0.275       -0.082\n",
        "\n"
       ]
      },
      {
       "output_type": "stream",
       "stream": "stderr",
       "text": [
        "/usr/local/lib/python3.5/dist-packages/causalinference/core/summary.py:110: RuntimeWarning: invalid value encountered in true_divide\n",
        "  return (mean_t-mean_c) / np.sqrt((sd_c**2+sd_t**2)/2)\n"
       ]
      }
     ],
     "prompt_number": 20
    },
    {
     "cell_type": "code",
     "collapsed": false,
     "input": [
      "for stratum in causal.strata:\n",
      "    stratum.est_via_ols(adj=1)\n",
      "    print(stratum.estimates[\"ols\"])"
     ],
     "language": "python",
     "metadata": {},
     "outputs": [
      {
       "output_type": "stream",
       "stream": "stdout",
       "text": [
        "\n",
        "Treatment Effect Estimates: OLS\n",
        "\n",
        "                     Est.       S.e.          z      P>|z|      [95% Conf. int.]\n",
        "--------------------------------------------------------------------------------\n",
        "           ATE     -0.041      0.054     -0.773      0.440     -0.147      0.064\n",
        "\n",
        "\n",
        "Treatment Effect Estimates: OLS\n",
        "\n",
        "                     Est.       S.e.          z      P>|z|      [95% Conf. int.]\n",
        "--------------------------------------------------------------------------------\n",
        "           ATE     -0.073      0.029     -2.563      0.010     -0.129     -0.017\n",
        "\n",
        "\n",
        "Treatment Effect Estimates: OLS\n",
        "\n",
        "                     Est.       S.e.          z      P>|z|      [95% Conf. int.]\n",
        "--------------------------------------------------------------------------------\n",
        "           ATE     -0.056      0.015     -3.707      0.000     -0.086     -0.027\n",
        "\n",
        "\n",
        "Treatment Effect Estimates: OLS\n",
        "\n",
        "                     Est.       S.e.          z      P>|z|      [95% Conf. int.]\n",
        "--------------------------------------------------------------------------------\n",
        "           ATE     -0.032      0.017     -1.893      0.058     -0.065      0.001\n",
        "\n",
        "\n",
        "Treatment Effect Estimates: OLS\n",
        "\n",
        "                     Est.       S.e.          z      P>|z|      [95% Conf. int.]\n",
        "--------------------------------------------------------------------------------\n",
        "           ATE     -0.007      0.014     -0.512      0.608     -0.034      0.020\n",
        "\n",
        "\n",
        "Treatment Effect Estimates: OLS\n",
        "\n",
        "                     Est.       S.e.          z      P>|z|      [95% Conf. int.]\n",
        "--------------------------------------------------------------------------------\n",
        "           ATE     -0.010      0.019     -0.536      0.592     -0.048      0.027\n",
        "\n"
       ]
      },
      {
       "ename": "LinAlgError",
       "evalue": "Singular matrix",
       "output_type": "pyerr",
       "traceback": [
        "\u001b[0;31m---------------------------------------------------------------------------\u001b[0m\n\u001b[0;31mLinAlgError\u001b[0m                               Traceback (most recent call last)",
        "\u001b[0;32m<ipython-input-21-db2cb99f4dbb>\u001b[0m in \u001b[0;36m<module>\u001b[0;34m()\u001b[0m\n\u001b[1;32m      1\u001b[0m \u001b[0;32mfor\u001b[0m \u001b[0mstratum\u001b[0m \u001b[0;32min\u001b[0m \u001b[0mcausal\u001b[0m\u001b[0;34m.\u001b[0m\u001b[0mstrata\u001b[0m\u001b[0;34m:\u001b[0m\u001b[0;34m\u001b[0m\u001b[0m\n\u001b[0;32m----> 2\u001b[0;31m     \u001b[0mstratum\u001b[0m\u001b[0;34m.\u001b[0m\u001b[0mest_via_ols\u001b[0m\u001b[0;34m(\u001b[0m\u001b[0madj\u001b[0m\u001b[0;34m=\u001b[0m\u001b[0;36m1\u001b[0m\u001b[0;34m)\u001b[0m\u001b[0;34m\u001b[0m\u001b[0m\n\u001b[0m\u001b[1;32m      3\u001b[0m     \u001b[0mprint\u001b[0m\u001b[0;34m(\u001b[0m\u001b[0mstratum\u001b[0m\u001b[0;34m.\u001b[0m\u001b[0mestimates\u001b[0m\u001b[0;34m[\u001b[0m\u001b[0;34m\"ols\"\u001b[0m\u001b[0;34m]\u001b[0m\u001b[0;34m)\u001b[0m\u001b[0;34m\u001b[0m\u001b[0m\n",
        "\u001b[0;32m/usr/local/lib/python3.5/dist-packages/causalinference/causal.py\u001b[0m in \u001b[0;36mest_via_ols\u001b[0;34m(self, adj)\u001b[0m\n\u001b[1;32m    246\u001b[0m \t\t\"\"\"\n\u001b[1;32m    247\u001b[0m \u001b[0;34m\u001b[0m\u001b[0m\n\u001b[0;32m--> 248\u001b[0;31m                 \u001b[0mself\u001b[0m\u001b[0;34m.\u001b[0m\u001b[0mestimates\u001b[0m\u001b[0;34m[\u001b[0m\u001b[0;34m'ols'\u001b[0m\u001b[0;34m]\u001b[0m \u001b[0;34m=\u001b[0m \u001b[0mOLS\u001b[0m\u001b[0;34m(\u001b[0m\u001b[0mself\u001b[0m\u001b[0;34m.\u001b[0m\u001b[0mraw_data\u001b[0m\u001b[0;34m,\u001b[0m \u001b[0madj\u001b[0m\u001b[0;34m)\u001b[0m\u001b[0;34m\u001b[0m\u001b[0m\n\u001b[0m\u001b[1;32m    249\u001b[0m \u001b[0;34m\u001b[0m\u001b[0m\n\u001b[1;32m    250\u001b[0m \u001b[0;34m\u001b[0m\u001b[0m\n",
        "\u001b[0;32m/usr/local/lib/python3.5/dist-packages/causalinference/estimators/ols.py\u001b[0m in \u001b[0;36m__init__\u001b[0;34m(self, data, adj)\u001b[0m\n\u001b[1;32m     21\u001b[0m                 \u001b[0molscoef\u001b[0m \u001b[0;34m=\u001b[0m \u001b[0mnp\u001b[0m\u001b[0;34m.\u001b[0m\u001b[0mlinalg\u001b[0m\u001b[0;34m.\u001b[0m\u001b[0mlstsq\u001b[0m\u001b[0;34m(\u001b[0m\u001b[0mZ\u001b[0m\u001b[0;34m,\u001b[0m \u001b[0mY\u001b[0m\u001b[0;34m)\u001b[0m\u001b[0;34m[\u001b[0m\u001b[0;36m0\u001b[0m\u001b[0;34m]\u001b[0m\u001b[0;34m\u001b[0m\u001b[0m\n\u001b[1;32m     22\u001b[0m                 \u001b[0mu\u001b[0m \u001b[0;34m=\u001b[0m \u001b[0mY\u001b[0m \u001b[0;34m-\u001b[0m \u001b[0mZ\u001b[0m\u001b[0;34m.\u001b[0m\u001b[0mdot\u001b[0m\u001b[0;34m(\u001b[0m\u001b[0molscoef\u001b[0m\u001b[0;34m)\u001b[0m\u001b[0;34m\u001b[0m\u001b[0m\n\u001b[0;32m---> 23\u001b[0;31m                 \u001b[0mcov\u001b[0m \u001b[0;34m=\u001b[0m \u001b[0mcalc_cov\u001b[0m\u001b[0;34m(\u001b[0m\u001b[0mZ\u001b[0m\u001b[0;34m,\u001b[0m \u001b[0mu\u001b[0m\u001b[0;34m)\u001b[0m\u001b[0;34m\u001b[0m\u001b[0m\n\u001b[0m\u001b[1;32m     24\u001b[0m \u001b[0;34m\u001b[0m\u001b[0m\n\u001b[1;32m     25\u001b[0m                 \u001b[0mself\u001b[0m\u001b[0;34m.\u001b[0m\u001b[0m_dict\u001b[0m \u001b[0;34m=\u001b[0m \u001b[0mdict\u001b[0m\u001b[0;34m(\u001b[0m\u001b[0;34m)\u001b[0m\u001b[0;34m\u001b[0m\u001b[0m\n",
        "\u001b[0;32m/usr/local/lib/python3.5/dist-packages/causalinference/estimators/ols.py\u001b[0m in \u001b[0;36mcalc_cov\u001b[0;34m(Z, u)\u001b[0m\n\u001b[1;32m     74\u001b[0m \u001b[0;32mdef\u001b[0m \u001b[0mcalc_cov\u001b[0m\u001b[0;34m(\u001b[0m\u001b[0mZ\u001b[0m\u001b[0;34m,\u001b[0m \u001b[0mu\u001b[0m\u001b[0;34m)\u001b[0m\u001b[0;34m:\u001b[0m\u001b[0;34m\u001b[0m\u001b[0m\n\u001b[1;32m     75\u001b[0m \u001b[0;34m\u001b[0m\u001b[0m\n\u001b[0;32m---> 76\u001b[0;31m         \u001b[0mA\u001b[0m \u001b[0;34m=\u001b[0m \u001b[0mnp\u001b[0m\u001b[0;34m.\u001b[0m\u001b[0mlinalg\u001b[0m\u001b[0;34m.\u001b[0m\u001b[0minv\u001b[0m\u001b[0;34m(\u001b[0m\u001b[0mnp\u001b[0m\u001b[0;34m.\u001b[0m\u001b[0mdot\u001b[0m\u001b[0;34m(\u001b[0m\u001b[0mZ\u001b[0m\u001b[0;34m.\u001b[0m\u001b[0mT\u001b[0m\u001b[0;34m,\u001b[0m \u001b[0mZ\u001b[0m\u001b[0;34m)\u001b[0m\u001b[0;34m)\u001b[0m\u001b[0;34m\u001b[0m\u001b[0m\n\u001b[0m\u001b[1;32m     77\u001b[0m         \u001b[0mB\u001b[0m \u001b[0;34m=\u001b[0m \u001b[0mnp\u001b[0m\u001b[0;34m.\u001b[0m\u001b[0mdot\u001b[0m\u001b[0;34m(\u001b[0m\u001b[0mu\u001b[0m\u001b[0;34m[\u001b[0m\u001b[0;34m:\u001b[0m\u001b[0;34m,\u001b[0m \u001b[0;32mNone\u001b[0m\u001b[0;34m]\u001b[0m\u001b[0;34m*\u001b[0m\u001b[0mZ\u001b[0m\u001b[0;34m,\u001b[0m \u001b[0mA\u001b[0m\u001b[0;34m)\u001b[0m\u001b[0;34m\u001b[0m\u001b[0m\n\u001b[1;32m     78\u001b[0m \u001b[0;34m\u001b[0m\u001b[0m\n",
        "\u001b[0;32m/usr/local/lib/python3.5/dist-packages/numpy/linalg/linalg.py\u001b[0m in \u001b[0;36minv\u001b[0;34m(a)\u001b[0m\n\u001b[1;32m    524\u001b[0m     \u001b[0msignature\u001b[0m \u001b[0;34m=\u001b[0m \u001b[0;34m'D->D'\u001b[0m \u001b[0;32mif\u001b[0m \u001b[0misComplexType\u001b[0m\u001b[0;34m(\u001b[0m\u001b[0mt\u001b[0m\u001b[0;34m)\u001b[0m \u001b[0;32melse\u001b[0m \u001b[0;34m'd->d'\u001b[0m\u001b[0;34m\u001b[0m\u001b[0m\n\u001b[1;32m    525\u001b[0m     \u001b[0mextobj\u001b[0m \u001b[0;34m=\u001b[0m \u001b[0mget_linalg_error_extobj\u001b[0m\u001b[0;34m(\u001b[0m\u001b[0m_raise_linalgerror_singular\u001b[0m\u001b[0;34m)\u001b[0m\u001b[0;34m\u001b[0m\u001b[0m\n\u001b[0;32m--> 526\u001b[0;31m     \u001b[0mainv\u001b[0m \u001b[0;34m=\u001b[0m \u001b[0m_umath_linalg\u001b[0m\u001b[0;34m.\u001b[0m\u001b[0minv\u001b[0m\u001b[0;34m(\u001b[0m\u001b[0ma\u001b[0m\u001b[0;34m,\u001b[0m \u001b[0msignature\u001b[0m\u001b[0;34m=\u001b[0m\u001b[0msignature\u001b[0m\u001b[0;34m,\u001b[0m \u001b[0mextobj\u001b[0m\u001b[0;34m=\u001b[0m\u001b[0mextobj\u001b[0m\u001b[0;34m)\u001b[0m\u001b[0;34m\u001b[0m\u001b[0m\n\u001b[0m\u001b[1;32m    527\u001b[0m     \u001b[0;32mreturn\u001b[0m \u001b[0mwrap\u001b[0m\u001b[0;34m(\u001b[0m\u001b[0mainv\u001b[0m\u001b[0;34m.\u001b[0m\u001b[0mastype\u001b[0m\u001b[0;34m(\u001b[0m\u001b[0mresult_t\u001b[0m\u001b[0;34m,\u001b[0m \u001b[0mcopy\u001b[0m\u001b[0;34m=\u001b[0m\u001b[0;32mFalse\u001b[0m\u001b[0;34m)\u001b[0m\u001b[0;34m)\u001b[0m\u001b[0;34m\u001b[0m\u001b[0m\n\u001b[1;32m    528\u001b[0m \u001b[0;34m\u001b[0m\u001b[0m\n",
        "\u001b[0;32m/usr/local/lib/python3.5/dist-packages/numpy/linalg/linalg.py\u001b[0m in \u001b[0;36m_raise_linalgerror_singular\u001b[0;34m(err, flag)\u001b[0m\n\u001b[1;32m     88\u001b[0m \u001b[0;34m\u001b[0m\u001b[0m\n\u001b[1;32m     89\u001b[0m \u001b[0;32mdef\u001b[0m \u001b[0m_raise_linalgerror_singular\u001b[0m\u001b[0;34m(\u001b[0m\u001b[0merr\u001b[0m\u001b[0;34m,\u001b[0m \u001b[0mflag\u001b[0m\u001b[0;34m)\u001b[0m\u001b[0;34m:\u001b[0m\u001b[0;34m\u001b[0m\u001b[0m\n\u001b[0;32m---> 90\u001b[0;31m     \u001b[0;32mraise\u001b[0m \u001b[0mLinAlgError\u001b[0m\u001b[0;34m(\u001b[0m\u001b[0;34m\"Singular matrix\"\u001b[0m\u001b[0;34m)\u001b[0m\u001b[0;34m\u001b[0m\u001b[0m\n\u001b[0m\u001b[1;32m     91\u001b[0m \u001b[0;34m\u001b[0m\u001b[0m\n\u001b[1;32m     92\u001b[0m \u001b[0;32mdef\u001b[0m \u001b[0m_raise_linalgerror_nonposdef\u001b[0m\u001b[0;34m(\u001b[0m\u001b[0merr\u001b[0m\u001b[0;34m,\u001b[0m \u001b[0mflag\u001b[0m\u001b[0;34m)\u001b[0m\u001b[0;34m:\u001b[0m\u001b[0;34m\u001b[0m\u001b[0m\n",
        "\u001b[0;31mLinAlgError\u001b[0m: Singular matrix"
       ]
      }
     ],
     "prompt_number": 21
    },
    {
     "cell_type": "code",
     "collapsed": false,
     "input": [],
     "language": "python",
     "metadata": {},
     "outputs": []
    }
   ],
   "metadata": {}
  }
 ]
}